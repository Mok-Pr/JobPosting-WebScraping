{
 "cells": [
  {
   "cell_type": "code",
   "execution_count": 1,
   "id": "d112008b",
   "metadata": {},
   "outputs": [],
   "source": [
    "# import libraries\n",
    "from bs4 import BeautifulSoup\n",
    "import numpy as np\n",
    "from time import sleep\n",
    "from random import randint\n",
    "import pandas as pd\n",
    "\n",
    "import requests\n",
    "import time"
   ]
  },
  {
   "cell_type": "code",
   "execution_count": 2,
   "id": "0954551c",
   "metadata": {},
   "outputs": [],
   "source": [
    "def a_tag_with_id(tag):\n",
    "    return tag.name == 'a' and tag.has_attr('data-test-id')"
   ]
  },
  {
   "cell_type": "code",
   "execution_count": 3,
   "id": "94ee0c7d",
   "metadata": {},
   "outputs": [],
   "source": [
    "# find links to each job's own page\n",
    "headers = {\"User-Agent\": \"Mozilla/5.0 (Windows NT 10.0; Win64; x64) AppleWebKit/537.36 (KHTML, like Gecko) Chrome/97.0.4692.99 Safari/537.36\", \"Accept-Encoding\":\"gzip, deflate, br\", \"Accept\":\"text/html,application/xhtml+xml,application/xml;q=0.9,image/avif,image/webp,image/apng,*/*;q=0.8,application/signed-exchange;v=b3;q=0.9\", \"DNT\":\"1\",\"Connection\":\"close\", \"Upgrade-Insecure-Requests\":\"1\"}\n",
    "\n",
    "pages = np.arange(1, 100, 1)\n",
    "link = []\n",
    "\n",
    "# these are all Applications Developer Job postings\n",
    "for page in pages: \n",
    "    page = \"https://www.monster.com/jobs/q-applications-developer-jobs?page=\" + str(page)\n",
    "\n",
    "    request_page = requests.get(page, headers=headers)\n",
    "    sleep(randint(2,10))\n",
    "    html_soup = BeautifulSoup(request_page.content, \"html.parser\")\n",
    "    soup = BeautifulSoup(html_soup.prettify())\n",
    "    container = soup.find_all(a_tag_with_id)\n",
    "    \n",
    "    for line in container:\n",
    "        if line.get('href') not in link:\n",
    "            link.append(line.get('href'))"
   ]
  },
  {
   "cell_type": "code",
   "execution_count": 4,
   "id": "fff158ef",
   "metadata": {},
   "outputs": [
    {
     "data": {
      "text/plain": [
       "157"
      ]
     },
     "execution_count": 4,
     "metadata": {},
     "output_type": "execute_result"
    }
   ],
   "source": [
    "len(link)"
   ]
  },
  {
   "cell_type": "code",
   "execution_count": 5,
   "id": "e705b458",
   "metadata": {},
   "outputs": [],
   "source": [
    "# create dataframe for storing the data later\n",
    "df = pd.DataFrame(columns=['job_title', 'company', 'description', 'has_company_logo'])"
   ]
  },
  {
   "cell_type": "code",
   "execution_count": 6,
   "id": "dcf2cee8",
   "metadata": {},
   "outputs": [],
   "source": [
    "def clean_text(lists):\n",
    "    lists = list(map(lambda x: x.replace(\"\\n\", \"\"), lists))\n",
    "    lists = list(map(lambda x: x.strip(), lists))\n",
    "    return lists"
   ]
  },
  {
   "cell_type": "code",
   "execution_count": 7,
   "id": "db50067f",
   "metadata": {},
   "outputs": [],
   "source": [
    "# scrape data then store in the dataframe\n",
    "alls, has_company_logo = [], 0\n",
    "\n",
    "for i in range(0,150):\n",
    "    url = 'http:' + link[i]\n",
    "    request_page2 = requests.get(url, headers=headers)  \n",
    "    sleep(randint(10,20))\n",
    "    html_soup2 = BeautifulSoup(request_page2.content, 'html.parser')\n",
    "    soup2 = BeautifulSoup(html_soup2.prettify())\n",
    "    \n",
    "    job_title_raw = soup2.find_all('h1', class_=\"headerstyle__JobViewHeaderTitle-sc-1ijq9nh-5 jSWmz JobViewTitle\")\n",
    "    company_raw = soup2.find_all('h2', class_=\"headerstyle__JobViewHeaderCompany-sc-1ijq9nh-6 vYQlO\")\n",
    "    descript_comp_raw = soup2.find_all('div', class_=\"descriptionstyles__DescriptionContainer-sc-13ve12b-0 bOxUQy\")\n",
    "    logo_raw = soup2.find_all('div', class_=\"headerstyle__JobViewHeaderLogo-sc-1ijq9nh-7 jerIfP\")\n",
    "    \n",
    "    for line in job_title_raw:\n",
    "        alls.append(line.get_text())\n",
    "    for line in company_raw:\n",
    "        alls.append(line.get_text())\n",
    "    for i in descript_comp_raw:\n",
    "        result = i.find(class_=\"descriptionstyles__DescriptionHeader-sc-13ve12b-1 ilDrbq\")\n",
    "        if result.get_text() == '\\n           Description\\n          ':\n",
    "            alls.append(i.get_text())\n",
    "            \n",
    "    alls = clean_text(alls)\n",
    "    \n",
    "    for line in logo_raw:\n",
    "        result = line.find(class_=\"company-logostyles__LogoContainer-sc-11vzkdn-1 bZVFkX\")\n",
    "        has_company_logo == 1 if result else has_company_logo == 0\n",
    "\n",
    "    alls.append(has_company_logo)\n",
    "    \n",
    "    try:\n",
    "        df2 = pd.DataFrame([[j for j in alls]], columns=['job_title', 'company', 'description', 'has_company_logo'])\n",
    "    except:\n",
    "        pass\n",
    "    else:\n",
    "        df = pd.concat([df, df2], ignore_index=True)\n",
    "    \n",
    "    alls = []"
   ]
  },
  {
   "cell_type": "code",
   "execution_count": 8,
   "id": "6d0c8fcc",
   "metadata": {
    "scrolled": true
   },
   "outputs": [
    {
     "data": {
      "text/html": [
       "<div>\n",
       "<style scoped>\n",
       "    .dataframe tbody tr th:only-of-type {\n",
       "        vertical-align: middle;\n",
       "    }\n",
       "\n",
       "    .dataframe tbody tr th {\n",
       "        vertical-align: top;\n",
       "    }\n",
       "\n",
       "    .dataframe thead th {\n",
       "        text-align: right;\n",
       "    }\n",
       "</style>\n",
       "<table border=\"1\" class=\"dataframe\">\n",
       "  <thead>\n",
       "    <tr style=\"text-align: right;\">\n",
       "      <th></th>\n",
       "      <th>job_title</th>\n",
       "      <th>company</th>\n",
       "      <th>description</th>\n",
       "      <th>has_company_logo</th>\n",
       "    </tr>\n",
       "  </thead>\n",
       "  <tbody>\n",
       "    <tr>\n",
       "      <th>0</th>\n",
       "      <td>Applications Engineer</td>\n",
       "      <td>Randstad USA</td>\n",
       "      <td>Description                     job summary:  ...</td>\n",
       "      <td>0</td>\n",
       "    </tr>\n",
       "    <tr>\n",
       "      <th>1</th>\n",
       "      <td>AWS Devops Engineer</td>\n",
       "      <td>Inovalon</td>\n",
       "      <td>Description                       Inovalon is ...</td>\n",
       "      <td>0</td>\n",
       "    </tr>\n",
       "    <tr>\n",
       "      <th>2</th>\n",
       "      <td>Applications Engineer</td>\n",
       "      <td>TotalTek</td>\n",
       "      <td>Description                        Apply Now  ...</td>\n",
       "      <td>0</td>\n",
       "    </tr>\n",
       "    <tr>\n",
       "      <th>3</th>\n",
       "      <td>APPLICATIONS ENGINEER 3</td>\n",
       "      <td>DANIEL DEFENSE LLC</td>\n",
       "      <td>Description                       At Daniel De...</td>\n",
       "      <td>0</td>\n",
       "    </tr>\n",
       "    <tr>\n",
       "      <th>4</th>\n",
       "      <td>Application Support Engineer</td>\n",
       "      <td>Yoh</td>\n",
       "      <td>Description                       Application ...</td>\n",
       "      <td>0</td>\n",
       "    </tr>\n",
       "    <tr>\n",
       "      <th>...</th>\n",
       "      <td>...</td>\n",
       "      <td>...</td>\n",
       "      <td>...</td>\n",
       "      <td>...</td>\n",
       "    </tr>\n",
       "    <tr>\n",
       "      <th>145</th>\n",
       "      <td>Software Engineer</td>\n",
       "      <td>GENERAL ATOMICS</td>\n",
       "      <td>Description                     General Atomic...</td>\n",
       "      <td>0</td>\n",
       "    </tr>\n",
       "    <tr>\n",
       "      <th>146</th>\n",
       "      <td>Senior DevOps Engineer</td>\n",
       "      <td>Santander Holdings USA Inc</td>\n",
       "      <td>Description                       Description ...</td>\n",
       "      <td>0</td>\n",
       "    </tr>\n",
       "    <tr>\n",
       "      <th>147</th>\n",
       "      <td>Controls Programmer</td>\n",
       "      <td>Rex Signature Services</td>\n",
       "      <td>Description                      Job Details  ...</td>\n",
       "      <td>0</td>\n",
       "    </tr>\n",
       "    <tr>\n",
       "      <th>148</th>\n",
       "      <td>Quality Assurance Analyst</td>\n",
       "      <td>ULINE</td>\n",
       "      <td>Description                        Quality Ass...</td>\n",
       "      <td>0</td>\n",
       "    </tr>\n",
       "    <tr>\n",
       "      <th>149</th>\n",
       "      <td>Full Stack Developer</td>\n",
       "      <td>Wegmans Food Markets</td>\n",
       "      <td>Description                      Schedule:    ...</td>\n",
       "      <td>0</td>\n",
       "    </tr>\n",
       "  </tbody>\n",
       "</table>\n",
       "<p>150 rows × 4 columns</p>\n",
       "</div>"
      ],
      "text/plain": [
       "                        job_title                     company  \\\n",
       "0           Applications Engineer                Randstad USA   \n",
       "1             AWS Devops Engineer                    Inovalon   \n",
       "2           Applications Engineer                    TotalTek   \n",
       "3         APPLICATIONS ENGINEER 3          DANIEL DEFENSE LLC   \n",
       "4    Application Support Engineer                         Yoh   \n",
       "..                            ...                         ...   \n",
       "145             Software Engineer             GENERAL ATOMICS   \n",
       "146        Senior DevOps Engineer  Santander Holdings USA Inc   \n",
       "147           Controls Programmer      Rex Signature Services   \n",
       "148     Quality Assurance Analyst                       ULINE   \n",
       "149          Full Stack Developer        Wegmans Food Markets   \n",
       "\n",
       "                                           description has_company_logo  \n",
       "0    Description                     job summary:  ...                0  \n",
       "1    Description                       Inovalon is ...                0  \n",
       "2    Description                        Apply Now  ...                0  \n",
       "3    Description                       At Daniel De...                0  \n",
       "4    Description                       Application ...                0  \n",
       "..                                                 ...              ...  \n",
       "145  Description                     General Atomic...                0  \n",
       "146  Description                       Description ...                0  \n",
       "147  Description                      Job Details  ...                0  \n",
       "148  Description                        Quality Ass...                0  \n",
       "149  Description                      Schedule:    ...                0  \n",
       "\n",
       "[150 rows x 4 columns]"
      ]
     },
     "execution_count": 8,
     "metadata": {},
     "output_type": "execute_result"
    }
   ],
   "source": [
    "df"
   ]
  },
  {
   "cell_type": "code",
   "execution_count": 105,
   "id": "70a02132",
   "metadata": {},
   "outputs": [],
   "source": [
    "df.to_csv('job-scraping.csv' ,index=False)"
   ]
  },
  {
   "cell_type": "markdown",
   "id": "0b5b4160",
   "metadata": {},
   "source": [
    "# Extract information from description"
   ]
  },
  {
   "cell_type": "code",
   "execution_count": 37,
   "id": "343feade",
   "metadata": {},
   "outputs": [],
   "source": [
    "# concatenate every description into a single text\n",
    "desc_text = \"\"\n",
    "desc = df['description'].astype(\"string\")\n",
    "for i in range(len(desc)):\n",
    "    desc_text = desc_text + \" \" + desc[i]"
   ]
  },
  {
   "cell_type": "code",
   "execution_count": null,
   "id": "7c0f20ec",
   "metadata": {},
   "outputs": [],
   "source": [
    "!pip install spacy\n",
    "!python -m spacy download en_core_web_sm"
   ]
  },
  {
   "cell_type": "code",
   "execution_count": 28,
   "id": "31ed5c10",
   "metadata": {},
   "outputs": [],
   "source": [
    "# use spaCy to extract the information\n",
    "from collections import Counter\n",
    "import spacy\n",
    "nlp = spacy.load(\"en_core_web_sm\")"
   ]
  },
  {
   "cell_type": "code",
   "execution_count": 41,
   "id": "52057eb0",
   "metadata": {},
   "outputs": [],
   "source": [
    "my_stop_words = ['Description', 'Requirements', 'Responsibilities', 'Skills', 'Experience', 'Qualifications', 'Background', 'job']\n",
    "\n",
    "for stopword in my_stop_words:\n",
    "    lexeme = nlp.vocab[stopword]\n",
    "    lexeme.is_stop = True"
   ]
  },
  {
   "cell_type": "code",
   "execution_count": 42,
   "id": "eda6a58c",
   "metadata": {},
   "outputs": [],
   "source": [
    "doc = nlp(desc_text)"
   ]
  },
  {
   "cell_type": "code",
   "execution_count": 60,
   "id": "33f24e62",
   "metadata": {},
   "outputs": [
    {
     "name": "stdout",
     "output_type": "stream",
     "text": [
      "the Applications Engineer (AE ORG\n",
      "AE ORG\n",
      "AE ORG\n",
      "AE ORG\n",
      "Microsoft Office ORG\n",
      "Quality, Lean ORG\n",
      "Six CARDINAL\n",
      "FMEA ORG\n",
      "DOE ORG\n",
      "Holliston GPE\n",
      "Massachusetts                       ORG\n",
      "hours TIME\n",
      "8am to TIME\n",
      "the Applications Engineer (AE ORG\n",
      "AE ORG\n",
      "AE ORG\n",
      "AE ORG\n",
      "Covid-19 vaccination ORG\n",
      "Randstad ORG\n",
      "Gender Identity ORG\n"
     ]
    }
   ],
   "source": [
    "# overall, the label 'ORG' just dominates everything else\n",
    "for token in doc.ents[:20]:\n",
    "    print(token.text, token.label_)"
   ]
  },
  {
   "cell_type": "code",
   "execution_count": 57,
   "id": "ca5a023e",
   "metadata": {},
   "outputs": [
    {
     "data": {
      "text/plain": [
       "[('SQL', 38),\n",
       " ('Microsoft', 26),\n",
       " ('DevOps', 21),\n",
       " ('Computer Science', 18),\n",
       " ('Bachelor', 16),\n",
       " ('Microsoft Office', 15),\n",
       " ('CI', 15),\n",
       " ('ETL', 15),\n",
       " ('JavaScript', 14),\n",
       " ('API', 13),\n",
       " ('EF', 12),\n",
       " ('Company', 11),\n",
       " ('CSS', 11),\n",
       " ('Android', 10),\n",
       " ('Information Technology', 9),\n",
       " ('PTO', 9),\n",
       " ('SAS', 9),\n",
       " ('Dental', 8),\n",
       " ('LLC', 7),\n",
       " ('SQL Server', 7)]"
      ]
     },
     "execution_count": 57,
     "metadata": {},
     "output_type": "execute_result"
    }
   ],
   "source": [
    "# get the 20 most common 'ORG' tokens\n",
    "orgs = [token.text\n",
    "         for token in doc.ents\n",
    "         if (token.label_ == 'ORG')]\n",
    "orgs_freq = Counter(orgs)\n",
    "\n",
    "common_orgs = orgs_freq.most_common(20)\n",
    "common_orgs"
   ]
  },
  {
   "cell_type": "code",
   "execution_count": 64,
   "id": "79883b4e",
   "metadata": {},
   "outputs": [
    {
     "data": {
      "text/plain": [
       "[('SQL', 41),\n",
       " ('Java', 24),\n",
       " ('JavaScript', 19),\n",
       " ('Git', 15),\n",
       " ('CSS', 11),\n",
       " ('Android', 10),\n",
       " ('Jenkins', 8),\n",
       " ('C++', 7),\n",
       " ('Python', 6),\n",
       " ('Oracle', 6)]"
      ]
     },
     "execution_count": 64,
     "metadata": {},
     "output_type": "execute_result"
    }
   ],
   "source": [
    "# find words frequency to see the most in-demand skills\n",
    "keywords = {'HTML', 'GUI', 'TOAD', 'IIS', 'Microsoft Visual Studio', 'Oracle', 'Python', 'MATLAB', 'Node.js', 'CSS', 'Java', 'JavaScript', 'Spring', 'Ad-grid', 'Git', 'GitHub', 'BitBucket', 'Jenkins', 'ReactJS', 'Angular', 'Vue', 'iOS', 'Android', 'UI/UX', 'SQL', 'JMS', 'Kafka', 'Azure', 'Rest', 'Jira', 'Artifactory', 'SVN', 'Gradle', 'Apex', 'Visualforce', 'SOQL', 'SOSL', 'C', 'C++', 'C#', '.Net', 'Selenium', 'Maven', 'Adobe', 'Eclipse', 'Sling', 'SOAP', 'LINQ', 'Dapper', 'MVC', 'ADO.NET', 'Bootstrap', 'jQuery', 'AJAX', 'JSON', 'Typescript', 'XML', 'UX', 'TFS', 'WCF', 'RDBMS', 'AWS', 'GLUE', 'Spark', 'Lambda', 'T-SQL', 'Perl', 'Unix', 'SSRS', 'PostgreSQL', 'elasticsearch', 'Django', 'flask', 'GeoTIFF', 'GeoJSON', 'shapefile', 'Linux'}\n",
    "\n",
    "keys = [token.text\n",
    "         for token in doc.ents\n",
    "         if (token.text in keywords)]\n",
    "key_freq = Counter(keys)\n",
    "\n",
    "common_keys = key_freq.most_common(10)\n",
    "common_keys"
   ]
  },
  {
   "cell_type": "code",
   "execution_count": 104,
   "id": "95a133ba",
   "metadata": {},
   "outputs": [
    {
     "data": {
      "image/png": "[encoded data removed]",
      "text/plain": [
       "<Figure size 1800x540 with 1 Axes>"
      ]
     },
     "metadata": {
      "needs_background": "light"
     },
     "output_type": "display_data"
    }
   ],
   "source": [
    "# skill keywords bar chart\n",
    "import matplotlib.pyplot as plt\n",
    "\n",
    "plt.figure(figsize=(25, 7.5))\n",
    "plt.xticks(rotation=55)\n",
    "plt.title('Keyword counts chart')           \n",
    "plt.xlabel('Keywords')\n",
    "plt.ylabel('Counts')\n",
    "\n",
    "keys = key_freq.keys()\n",
    "keys_count = key_freq.values()\n",
    "plt.bar(keys, keys_count)\n",
    "plt.show()"
   ]
  }
 ],
 "metadata": {
  "kernelspec": {
   "display_name": "Python 3 (ipykernel)",
   "language": "python",
   "name": "python3"
  },
  "language_info": {
   "codemirror_mode": {
    "name": "ipython",
    "version": 3
   },
   "file_extension": ".py",
   "mimetype": "text/x-python",
   "name": "python",
   "nbconvert_exporter": "python",
   "pygments_lexer": "ipython3",
   "version": "3.8.8"
  }
 },
 "nbformat": 4,
 "nbformat_minor": 5
}
